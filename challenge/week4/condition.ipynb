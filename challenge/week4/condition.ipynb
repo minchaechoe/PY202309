{
 "cells": [
  {
   "cell_type": "code",
   "execution_count": 20,
   "id": "5165fa56",
   "metadata": {},
   "outputs": [
    {
     "name": "stdout",
     "output_type": "stream",
     "text": [
      "Is it raining? (Y/N)b\n",
      "Is it windy? (Y/N)y\n",
      "Incorrect Input\n"
     ]
    }
   ],
   "source": [
    "# Receive from the user whether it's raining and windy and store the input in lowercase\n",
    "rain = input(\"Is it raining? (Y/N)\")\n",
    "windy = input(\"Is it windy? (Y/N)\")\n",
    "\n",
    "if rain == 'y' and windy == 'y':\n",
    "    print(\"It is too windy for an umbrella.\")\n",
    "elif rain == 'y' and windy == 'n':\n",
    "    print(\"Take an umbrella.\")\n",
    "elif rain == 'n' and windy =='y':\n",
    "    print(\"Please take a coat.\")\n",
    "elif rain == 'n' and windy == 'n':\n",
    "    print(\"Have a nice day.\")\n",
    "else:\n",
    "    print(\"Incorrect Input\")"
   ]
  },
  {
   "cell_type": "code",
   "execution_count": null,
   "id": "222b5252",
   "metadata": {},
   "outputs": [],
   "source": []
  }
 ],
 "metadata": {
  "kernelspec": {
   "display_name": "Python 3 (ipykernel)",
   "language": "python",
   "name": "python3"
  },
  "language_info": {
   "codemirror_mode": {
    "name": "ipython",
    "version": 3
   },
   "file_extension": ".py",
   "mimetype": "text/x-python",
   "name": "python",
   "nbconvert_exporter": "python",
   "pygments_lexer": "ipython3",
   "version": "3.11.4"
  }
 },
 "nbformat": 4,
 "nbformat_minor": 5
}
