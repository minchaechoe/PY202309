{
 "cells": [
  {
   "cell_type": "code",
   "execution_count": 1,
   "id": "b5b1c397",
   "metadata": {},
   "outputs": [
    {
     "name": "stdout",
     "output_type": "stream",
     "text": [
      "Enter English number ranging from 1 to 5: three\n",
      "three is 삼\n"
     ]
    }
   ],
   "source": [
    "# Create dictionary and sotre numbers (Key: English number, Value: Korean number)\n",
    "eng_kor = {\"one\":\"일\", \"two\":\"이\", \"three\":\"삼\", \"four\":\"사\", \"five\":\"오\"}\n",
    "\n",
    "# Enter English number from user, ranging from 1 to 5\n",
    "user_num = input(\"Enter English number ranging from 1 to 5: \")\n",
    "\n",
    "# Print the corresponding value depending on the user's input\n",
    "print(user_num, \"is\", eng_kor[user_num]) # Access the value by key"
   ]
  },
  {
   "cell_type": "code",
   "execution_count": 2,
   "id": "12c61d5e",
   "metadata": {},
   "outputs": [
    {
     "name": "stdout",
     "output_type": "stream",
     "text": [
      "Name: Moving  / average:  4.0\n",
      "Name: Mask Girl  / average:  3.6666666666666665\n",
      "Name: Openheimer  / average:  3.3333333333333335\n"
     ]
    }
   ],
   "source": [
    "# Create a dictionary\n",
    "ratings = {\"Moving\":{\"Misoo\":4, \"Kwon\":3, \"Soo\":5},\\\n",
    "           \"Mask Girl\":{\"Misoo\":3, \"David\":4, \"Soo\":4},\\\n",
    "           \"Openheimer\":{\"Kwon\":3, \"Bob\":3, \"David\":4}}\n",
    "\n",
    "# Average movie scores, consider the scores given by multiple people\n",
    "movies = list(ratings.keys())\n",
    "\n",
    "score_list = list(ratings[movies[0]].values())\n",
    "print(\"Name:\", movies[0], \" / average: \", sum(score_list)/len(score_list))\n",
    "\n",
    "score_list = list(ratings[movies[1]].values())\n",
    "print(\"Name:\", movies[1], \" / average: \", sum(score_list)/len(score_list))\n",
    "\n",
    "score_list = list(ratings[movies[2]].values())\n",
    "print(\"Name:\", movies[2], \" / average: \", sum(score_list)/len(score_list))"
   ]
  },
  {
   "cell_type": "code",
   "execution_count": 3,
   "id": "d0abfb73",
   "metadata": {},
   "outputs": [
    {
     "name": "stdout",
     "output_type": "stream",
     "text": [
      "Enter user1's 1st friend name: 철수\n",
      "Enter user1's 2nd friend name: 영수\n",
      "Enter user1's 3rd friend name: 영희\n",
      "Enter user2's 1st friend name: 철희\n",
      "Enter user2's 2nd friend name: 영수\n",
      "Enter user2's 3rd friend name: 동수\n",
      "All friends:  영수 동수 영희 철희 철수\n"
     ]
    }
   ],
   "source": [
    "# Ask for the names of three friends for user1 and store them in a set\n",
    "friend1_1 = input(\"Enter user1's 1st friend name: \")\n",
    "friend1_2 = input(\"Enter user1's 2nd friend name: \")\n",
    "friend1_3 = input(\"Enter user1's 3rd friend name: \")\n",
    "friends_set1 = {friend1_1, friend1_2, friend1_3} # Store in a set\n",
    "\n",
    "# Ask for the names of three friends for user1 and store them in a set\n",
    "friend2_1 = input(\"Enter user2's 1st friend name: \")\n",
    "friend2_2 = input(\"Enter user2's 2nd friend name: \")\n",
    "friend2_3 = input(\"Enter user2's 3rd friend name: \")\n",
    "friends_set2 = {friend2_1, friend2_2, friend2_3} # Store in a set\n",
    "\n",
    "# Combine the friend lists of both users\n",
    "both_set = friends_set1 | friends_set2 # combine by union\n",
    "\n",
    "# Print all friend names to ensure there are no duplicates\n",
    "print(\"All friends: \", *both_set)"
   ]
  },
  {
   "cell_type": "code",
   "execution_count": null,
   "id": "0d91bd74",
   "metadata": {},
   "outputs": [],
   "source": []
  }
 ],
 "metadata": {
  "kernelspec": {
   "display_name": "Python 3 (ipykernel)",
   "language": "python",
   "name": "python3"
  },
  "language_info": {
   "codemirror_mode": {
    "name": "ipython",
    "version": 3
   },
   "file_extension": ".py",
   "mimetype": "text/x-python",
   "name": "python",
   "nbconvert_exporter": "python",
   "pygments_lexer": "ipython3",
   "version": "3.11.4"
  }
 },
 "nbformat": 4,
 "nbformat_minor": 5
}
