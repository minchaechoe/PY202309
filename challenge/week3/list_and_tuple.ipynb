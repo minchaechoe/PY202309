{
 "cells": [
  {
   "cell_type": "code",
   "execution_count": 6,
   "id": "0d3a1376",
   "metadata": {},
   "outputs": [
    {
     "name": "stdout",
     "output_type": "stream",
     "text": [
      "Enter 1st number: 50\n",
      "Enter 2nd number: 40\n",
      "Enter 3rd number: 90\n",
      "Enter 4th number: 10\n",
      "Enter 5th number: 30\n",
      "max: 90\n",
      "min: 10\n",
      "average: 44.0\n"
     ]
    }
   ],
   "source": [
    "# ask the user to input 5 numbers\n",
    "num1 = int(input(\"Enter 1st number: \"))\n",
    "num2 = int(input(\"Enter 2nd number: \"))\n",
    "num3 = int(input(\"Enter 3rd number: \"))\n",
    "num4 = int(input(\"Enter 4th number: \"))\n",
    "num5 = int(input(\"Enter 5th number: \"))\n",
    "\n",
    "# Store them in a list\n",
    "num_list = [num1, num2, num3, num4, num5]\n",
    "\n",
    "# Calculate and displays the maximum, minimum, and average of those numbers\n",
    "print(\"max:\", max(num_list))\n",
    "print(\"min:\", min(num_list))\n",
    "print(\"average:\", sum(num_list)/len(num_list)) # average : sum of list / length of list"
   ]
  },
  {
   "cell_type": "code",
   "execution_count": 8,
   "id": "0a311ba1",
   "metadata": {},
   "outputs": [
    {
     "name": "stdout",
     "output_type": "stream",
     "text": [
      "What is your favorite singer? Exo\n",
      "['BTS', 'Black Pink', 'Exo', 'Oh My Girl']\n"
     ]
    }
   ],
   "source": [
    "# Create a list containing two singers names\n",
    "singers = ['BTS', 'Black Pink', 'Oh My Girl']\n",
    "\n",
    "# Ask the user for their favorite singer (only one)\n",
    "fav_singer = input(\"What is your favorite singer? \")\n",
    "\n",
    "# Add that singer to the end of the list\n",
    "singers.append(fav_singer) # add element on last\n",
    "\n",
    "# Sort the list by the names and prints the updated list\n",
    "singers.sort()\n",
    "print(singers)"
   ]
  },
  {
   "cell_type": "code",
   "execution_count": 22,
   "id": "ff136eeb",
   "metadata": {},
   "outputs": [
    {
     "name": "stdout",
     "output_type": "stream",
     "text": [
      "('tennis', 'football', 'baseball', 'basketball', 'golf')\n",
      "Please enter one of the sport name from above: golf\n",
      "golf has index number: 4\n",
      "Enter a number between 0 and 4: 3\n",
      "basketball\n"
     ]
    }
   ],
   "source": [
    "# Create a tuple containing the names of five sports names\n",
    "sports = ('tennis', 'football', 'baseball', 'basketball', 'golf')\n",
    "\n",
    "# Display the items\n",
    "print(sports)\n",
    "\n",
    "# Ask the user to input one of the displayed sport name\n",
    "sport = input(\"Please enter one of the sport name from above: \")\n",
    "\n",
    "# Print the index of the inputted sport name\n",
    "print(sport + \" has index number: \"+ str(sports.index(sport)))\n",
    "\n",
    "# Ask the user to input one of the number\n",
    "idx = int(input(\"Enter a number between 0 and 4: \")) # change to integer\n",
    "\n",
    "# Print the sport name of the inputted index\n",
    "print(sports[idx])"
   ]
  },
  {
   "cell_type": "code",
   "execution_count": 28,
   "id": "d55c1df5",
   "metadata": {},
   "outputs": [
    {
     "name": "stdout",
     "output_type": "stream",
     "text": [
      "Enter the 1st item sold yesterday: a\n",
      "Enter the 2nd item sold yesterday: b\n",
      "Enter the 3rd item sold yesterday: c\n",
      "Enter the 4th item sold yesterday: d\n",
      "Enter the 5th item sold yesterday: e\n",
      "Enter the 1st item sold today: f\n",
      "Enter the 2nd item sold today: g\n",
      "Enter the 3rd item sold today: g\n",
      "Enter the 4th item sold today: g\n",
      "Enter the 5th item sold today: g\n",
      "Yesterday sales:  a b c d e\n",
      "Today sales:  f g g g g\n",
      "Total salse:  ['a', 'b', 'c', 'd', 'e', 'f', 'g', 'g', 'g', 'g']\n"
     ]
    }
   ],
   "source": [
    "menu = ('Americano','Caffe Latte','Caffe Mocha','Iced Tea')\n",
    "\n",
    "# Input the 5 items on yesterday, on today\n",
    "yes_1 = input(\"Enter the 1st item sold yesterday: \")\n",
    "yes_2 = input(\"Enter the 2nd item sold yesterday: \")\n",
    "yes_3 = input(\"Enter the 3rd item sold yesterday: \")\n",
    "yes_4 = input(\"Enter the 4th item sold yesterday: \")\n",
    "yes_5 = input(\"Enter the 5th item sold yesterday: \")\n",
    "\n",
    "tod_1 = input(\"Enter the 1st item sold today: \")\n",
    "tod_2 = input(\"Enter the 2nd item sold today: \")\n",
    "tod_3 = input(\"Enter the 3rd item sold today: \")\n",
    "tod_4 = input(\"Enter the 4th item sold today: \")\n",
    "tod_5 = input(\"Enter the 5th item sold today: \")\n",
    "\n",
    "yesterday = [yes_1,yes_2,yes_3,yes_4,yes_5]\n",
    "today = [tod_1,tod_2,tod_3,tod_4,tod_5]\n",
    "\n",
    "print(\"Yesterday sales: \", *yesterday)\n",
    "print(\"Today sales: \", *today)\n",
    "\n",
    "tuple(yesterday)\n",
    "tuple(today)\n",
    "\n",
    "yesterday.extend(today)\n",
    "print(\"Total salse: \", yesterday)\n"
   ]
  },
  {
   "cell_type": "code",
   "execution_count": null,
   "id": "aa6ffa21",
   "metadata": {},
   "outputs": [],
   "source": [
    "s"
   ]
  },
  {
   "cell_type": "code",
   "execution_count": null,
   "id": "928cddb4",
   "metadata": {},
   "outputs": [],
   "source": []
  }
 ],
 "metadata": {
  "kernelspec": {
   "display_name": "Python 3 (ipykernel)",
   "language": "python",
   "name": "python3"
  },
  "language_info": {
   "codemirror_mode": {
    "name": "ipython",
    "version": 3
   },
   "file_extension": ".py",
   "mimetype": "text/x-python",
   "name": "python",
   "nbconvert_exporter": "python",
   "pygments_lexer": "ipython3",
   "version": "3.11.4"
  }
 },
 "nbformat": 4,
 "nbformat_minor": 5
}
