{
 "cells": [
  {
   "cell_type": "code",
   "execution_count": 5,
   "id": "464083f9",
   "metadata": {},
   "outputs": [
    {
     "name": "stdout",
     "output_type": "stream",
     "text": [
      "-----TF dictionary-----\n",
      "{'in': 1, 'read': 1, 'fox': 1, 'gold': 1, 'single': 1, 'step': 1, 'difficulty': 1, 'quick': 1, 'that': 1, 'not': 1, 'lies': 1, 'brown': 1, 'begins': 1, 'dog': 1, 'is': 1, 'journey': 1, 'of': 2, 'a': 3, 'jumps': 1, 'middle': 1, 'over': 1, 'she': 1, 'glitters': 1, 'the': 3, 'books': 1, 'all': 1, 'miles': 1, 'lazy': 1, 'likes': 1, 'to': 1, 'thousand': 1, 'opportunity': 1, 'with': 1}\n",
      "-----Top-3 TF terms-----\n",
      "1 a 3\n",
      "2 the 3\n",
      "3 of 2\n"
     ]
    }
   ],
   "source": [
    "import operator\n",
    "sentences = [\n",
    "    \"The quick brown fox jumps over the lazy dog.\",\n",
    "    \"A journey of a thousand miles begins with a single step.\",\n",
    "    \"All that glitters is not gold.\",    \n",
    "    \"In the middle of difficulty lies opportunity.\",\n",
    "    \"She likes to read books.\"\n",
    "]\n",
    "\n",
    "total_terms = set()\n",
    "# TODO 1: 토큰 집합 만들기\n",
    "for sentence in sentences:\n",
    "    tokens = sentence.strip(\".\").split(\" \")\n",
    "    for token in tokens:\n",
    "        total_terms.add(token)\n",
    "\n",
    "term_frequency_dict = {} # 토큰 별 단어 빈도 저장할 딕셔너리\n",
    "# TODO 2: 토큰 별 단어 빈도를 딕셔너리에 저장\n",
    "# make all_tokens list\n",
    "all_tokens = []\n",
    "for sentence in sentences:\n",
    "    tokens = sentence.strip(\".\").split(\" \")\n",
    "    all_tokens += (tokens)\n",
    "\n",
    "# change all_tokens list into string type for lower function, which is for case-insensitive\n",
    "all_tokens_str = ' '.join(all_tokens).lower()\n",
    "lower_all_tokens = all_tokens_str.strip().split(\" \")\n",
    "\n",
    "# make lower_total_set for coounting frequency\n",
    "lower_total_set = set(lower_all_tokens)\n",
    "\n",
    "# make term_frequency_dict by count function\n",
    "for term in lower_total_set:\n",
    "    term_frequency_dict[term] = lower_all_tokens.count(term)\n",
    "\n",
    "# 토큰 빈도 출력\n",
    "print(\"-----TF dictionary-----\")\n",
    "print(term_frequency_dict)\n",
    "\n",
    "\n",
    "print(\"-----Top-3 TF terms-----\")\n",
    "# TODO 3: Top-3 토큰 빈도를 갖는 단어의 순위, 단어, 빈도 출력 코드 작성\n",
    "# to print in ascending order, set 'reverse' to 'True'\n",
    "sorted_terms = sorted(term_frequency_dict.items(), key=operator.itemgetter(1), reverse=True)\n",
    "top_3_terms = sorted_terms[:3]\n",
    "\n",
    "rank = 1\n",
    "for term, frequency in top_3_terms:\n",
    "    print(rank, term, frequency)\n",
    "    rank += 1"
   ]
  },
  {
   "cell_type": "code",
   "execution_count": null,
   "id": "fe5578d9",
   "metadata": {},
   "outputs": [],
   "source": []
  }
 ],
 "metadata": {
  "kernelspec": {
   "display_name": "Python 3 (ipykernel)",
   "language": "python",
   "name": "python3"
  },
  "language_info": {
   "codemirror_mode": {
    "name": "ipython",
    "version": 3
   },
   "file_extension": ".py",
   "mimetype": "text/x-python",
   "name": "python",
   "nbconvert_exporter": "python",
   "pygments_lexer": "ipython3",
   "version": "3.11.4"
  }
 },
 "nbformat": 4,
 "nbformat_minor": 5
}
