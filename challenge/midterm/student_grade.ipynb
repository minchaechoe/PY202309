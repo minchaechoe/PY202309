{
 "cells": [
  {
   "cell_type": "code",
   "execution_count": 3,
   "id": "f0572b28",
   "metadata": {},
   "outputs": [
    {
     "name": "stdout",
     "output_type": "stream",
     "text": [
      "실바의 평균 점수는 73.66666666666667\n",
      "산토스의 평균 점수는 86.93333333333334\n",
      "맥그리거의 평균 점수는 85.7\n",
      "알도의 평균 점수는 85.43333333333332\n",
      "로우지의 평균 점수는 83.10000000000001\n",
      "누네스의 평균 점수는 85.93333333333334\n"
     ]
    }
   ],
   "source": [
    "lines = open(\"students.csv\",\"r\", encoding=\"utf8\").readlines()\n",
    "\n",
    "# TODO 1: 학생 별 성적들을 딕셔너리에 저장\n",
    "students_info = dict()\n",
    "for line in lines:\n",
    "    arr = line.strip().split(\",\")\n",
    "    students_info[arr[0]] = arr[1:]\n",
    "\n",
    "# TODO 2: 학생 별 성적의 평균 점수를 출력\n",
    "# make students list from keys of dictionary\n",
    "students = list(students_info.keys())\n",
    "# erase indexs\n",
    "students = students[1:]\n",
    "\n",
    "for student in students:\n",
    "    scores = students_info[student]\n",
    "    score_sum = 0\n",
    "    for i in range(len(scores)):\n",
    "        score_sum += float(scores[i])\n",
    "    print(student + \"의 평균 점수는 \" + str(score_sum/len(scores)))\n",
    "    \n",
    "# TODO 3: 평균 점수를 코드 실행결과와 동일하게 파일로 출력(average.txt)\n",
    "# make file pointer for file updating\n",
    "writer_fp = open(\"./average.txt\", \"w\", encoding=\"utf8\")\n",
    "writer_fp.write(\"-----학생들의 평균 점수-----\\n\")\n",
    "for student in students:\n",
    "    scores = students_info[student]\n",
    "    score_sum = 0\n",
    "    for i in range(len(scores)):\n",
    "        score_sum += float(scores[i])\n",
    "    writer_fp.write(student + \"의 평균 점수는 \" + str(score_sum/len(scores)) + \"\\n\")\n",
    "writer_fp.close()"
   ]
  },
  {
   "cell_type": "code",
   "execution_count": 4,
   "id": "ec639df2",
   "metadata": {},
   "outputs": [
    {
     "name": "stdout",
     "output_type": "stream",
     "text": [
      "실바의 평균 점수는 73.66666666666667\n",
      "산토스의 평균 점수는 86.93333333333334\n",
      "맥그리거의 평균 점수는 85.7\n",
      "알도의 평균 점수는 85.43333333333332\n",
      "로우지의 평균 점수는 83.10000000000001\n",
      "누네스의 평균 점수는 85.93333333333334\n"
     ]
    }
   ],
   "source": [
    "# make loadData function implemented by the name of the file\n",
    "def loadData(file_name):\n",
    "    lines = open(file_name, encoding=\"utf8\").readlines()\n",
    "    students_info = dict()\n",
    "    for line in lines:\n",
    "        arr = line.strip().split(\",\")\n",
    "        students_info[arr[0]] = arr[1:]\n",
    "    return students_info\n",
    "\n",
    "# make getAverage function implemented by number list\n",
    "def getAverage(num_list):\n",
    "    num_sum = 0\n",
    "    for num in num_list:\n",
    "        num_sum += num\n",
    "    average = num_sum/len(num_list)\n",
    "    return average\n",
    "        \n",
    "# call the loadData function\n",
    "students_info = loadData(\"students.csv\")\n",
    "\n",
    "# print average scores by using getAverage function\n",
    "for student in students:\n",
    "    scores = students_info[student]\n",
    "    for i in range(len(scores)):\n",
    "        scores[i] = float(scores[i])\n",
    "    print(student + \"의 평균 점수는 \" + str(getAverage(scores)))"
   ]
  },
  {
   "cell_type": "code",
   "execution_count": null,
   "id": "283ed359",
   "metadata": {},
   "outputs": [],
   "source": []
  }
 ],
 "metadata": {
  "kernelspec": {
   "display_name": "Python 3 (ipykernel)",
   "language": "python",
   "name": "python3"
  },
  "language_info": {
   "codemirror_mode": {
    "name": "ipython",
    "version": 3
   },
   "file_extension": ".py",
   "mimetype": "text/x-python",
   "name": "python",
   "nbconvert_exporter": "python",
   "pygments_lexer": "ipython3",
   "version": "3.11.4"
  }
 },
 "nbformat": 4,
 "nbformat_minor": 5
}
