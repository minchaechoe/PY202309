{
 "cells": [
  {
   "cell_type": "code",
   "execution_count": 1,
   "id": "b7f88cae",
   "metadata": {},
   "outputs": [
    {
     "name": "stdout",
     "output_type": "stream",
     "text": [
      "** Start Lotto **\n",
      "1) Set the lotto numbers\n",
      "2) Set the user inputs\n",
      "Enter 1-number: 1\n",
      "Enter 2-number: 2\n",
      "Enter 3-number: 3\n",
      "Enter 4-number: 4\n",
      "Enter 5-number: 5\n",
      "Enter 6-number: 6\n",
      "Number:  "
     ]
    },
    {
     "ename": "NameError",
     "evalue": "name 'lotto' is not defined",
     "output_type": "error",
     "traceback": [
      "\u001b[1;31m---------------------------------------------------------------------------\u001b[0m",
      "\u001b[1;31mNameError\u001b[0m                                 Traceback (most recent call last)",
      "Cell \u001b[1;32mIn[1], line 42\u001b[0m\n\u001b[0;32m     35\u001b[0m         \u001b[38;5;28;01mbreak\u001b[39;00m\n\u001b[0;32m     41\u001b[0m \u001b[38;5;28mprint\u001b[39m(\u001b[38;5;124m\"\u001b[39m\u001b[38;5;124mNumber: \u001b[39m\u001b[38;5;124m\"\u001b[39m, end\u001b[38;5;241m=\u001b[39m\u001b[38;5;124m'\u001b[39m\u001b[38;5;124m \u001b[39m\u001b[38;5;124m'\u001b[39m)\n\u001b[1;32m---> 42\u001b[0m lotto\u001b[38;5;241m.\u001b[39msort() \u001b[38;5;66;03m# sort the list by ascending order\u001b[39;00m\n\u001b[0;32m     43\u001b[0m \u001b[38;5;28;01mfor\u001b[39;00m number \u001b[38;5;129;01min\u001b[39;00m lotto:\n\u001b[0;32m     44\u001b[0m     \u001b[38;5;28mprint\u001b[39m(number, end\u001b[38;5;241m=\u001b[39m\u001b[38;5;124m'\u001b[39m\u001b[38;5;124m \u001b[39m\u001b[38;5;124m'\u001b[39m)\n",
      "\u001b[1;31mNameError\u001b[0m: name 'lotto' is not defined"
     ]
    }
   ],
   "source": [
    "import random\n",
    "\n",
    "def get_number():\n",
    "    return random.randrange(1, 46) # generate number between 1 to 45 randomly\n",
    "\n",
    "def set_lotto_numbers():\n",
    "    lotto = []\n",
    "    while True:\n",
    "        num = get_number()\n",
    "        if lotto.count(num) == 0: # restrict repeatition\n",
    "            lotto.append(num)\n",
    "        \n",
    "        if len(lotto) >= 6: # get 6 numbers for lotto\n",
    "            break\n",
    "    return lotto\n",
    "\n",
    "num = 0\n",
    "print(\"** Start Lotto **\")\n",
    "print(\"1) Set the lotto numbers\")\n",
    "lotto_numbers = set_lotto_numbers()\n",
    "\n",
    "print(\"2) Set the user inputs\")\n",
    "user_inputs = []\n",
    "while True:\n",
    "    num = int(input(\"Enter %d-number: \"%(len(user_inputs)+1)))\n",
    "    if num < 1 or num > 46:\n",
    "        print(\"No valid number\") # accept only from 1 to 45\n",
    "        continue\n",
    "    if user_inputs.count(num) == 0:\n",
    "        user_inputs.append(num)\n",
    "    else:\n",
    "        print(\"Same number\")\n",
    "        continue\n",
    "    if len(user_inputs) >= 6: #\n",
    "        break\n",
    "        \n",
    "print(\"Number: \", end=' ')\n",
    "lotto_numbers.sort() # sort the list by ascending order\n",
    "for number in lotto_numbers:\n",
    "    print(number, end=' ')"
   ]
  },
  {
   "cell_type": "code",
   "execution_count": null,
   "id": "9b3687c0",
   "metadata": {},
   "outputs": [],
   "source": []
  }
 ],
 "metadata": {
  "kernelspec": {
   "display_name": "Python 3 (ipykernel)",
   "language": "python",
   "name": "python3"
  },
  "language_info": {
   "codemirror_mode": {
    "name": "ipython",
    "version": 3
   },
   "file_extension": ".py",
   "mimetype": "text/x-python",
   "name": "python",
   "nbconvert_exporter": "python",
   "pygments_lexer": "ipython3",
   "version": "3.11.4"
  }
 },
 "nbformat": 4,
 "nbformat_minor": 5
}
