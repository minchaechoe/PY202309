{
 "cells": [
  {
   "cell_type": "code",
   "execution_count": null,
   "id": "b7f88cae",
   "metadata": {},
   "outputs": [],
   "source": [
    "import random\n",
    "\n",
    "def get_number():\n",
    "    return random.randrange(1, 46) # generate number between 1 to 45 randomly\n",
    "\n",
    "def set_lotto_numbers():\n",
    "    lotto = []\n",
    "    while True:\n",
    "        num = get_number()\n",
    "        if lotto.count(num) == 0: # restrict repeatition\n",
    "            lotto.append(num)\n",
    "        \n",
    "        if len(lotto) >= 6: # get 6 numbers for lotto\n",
    "            break\n",
    "    return lotto\n",
    "\n",
    "num = 0\n",
    "print(\"** Start Lotto **\")\n",
    "print(\"1) Set the lotto numbers\")\n",
    "lotto_numbers = set_lotto_numbers()\n",
    "\n",
    "print(\"2) Set the user inputs\")\n",
    "user_inputs = []\n",
    "while True:\n",
    "    num = int(input(\"Enter %d-number: \"%(len(user_inputs)+1)))\n",
    "    if num < 1 or num > 46:\n",
    "        print(\"No valid number\") # accept only from 1 to 45\n",
    "        continue\n",
    "    if user_inputs.count(num) == 0:\n",
    "        user_inputs.append(num)\n",
    "    else:\n",
    "        print(\"Same number\")\n",
    "        continue\n",
    "    if len(user_inputs) >= 6: #\n",
    "        break\n",
    "        \n",
    "\n",
    "\n",
    "    \n",
    "    \n",
    "print(\"Number: \", end=' ')\n",
    "lotto.sort() # sort the list by ascending order\n",
    "for number in lotto:\n",
    "    print(number, end=' ')"
   ]
  }
 ],
 "metadata": {
  "kernelspec": {
   "display_name": "Python 3 (ipykernel)",
   "language": "python",
   "name": "python3"
  },
  "language_info": {
   "codemirror_mode": {
    "name": "ipython",
    "version": 3
   },
   "file_extension": ".py",
   "mimetype": "text/x-python",
   "name": "python",
   "nbconvert_exporter": "python",
   "pygments_lexer": "ipython3",
   "version": "3.11.4"
  }
 },
 "nbformat": 4,
 "nbformat_minor": 5
}
