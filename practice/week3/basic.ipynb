{
 "cells": [
  {
   "cell_type": "code",
   "execution_count": 1,
   "id": "2aef365b",
   "metadata": {},
   "outputs": [
    {
     "name": "stdout",
     "output_type": "stream",
     "text": [
      "1. current list = [30, 10, 20, 50, 40]\n"
     ]
    }
   ],
   "source": [
    "sample_list = [30,10,20,50,40]\n",
    "print(\"1. current list =\", sample_list)"
   ]
  },
  {
   "cell_type": "code",
   "execution_count": 2,
   "id": "3ce2b46d",
   "metadata": {},
   "outputs": [
    {
     "name": "stdout",
     "output_type": "stream",
     "text": [
      "2. append(60) = [30, 10, 20, 50, 40, 60]\n"
     ]
    }
   ],
   "source": [
    "sample_list.append(60) # add element to end\n",
    "print(\"2. append(60) =\", sample_list)"
   ]
  },
  {
   "cell_type": "code",
   "execution_count": 3,
   "id": "ab70e5ff",
   "metadata": {},
   "outputs": [
    {
     "name": "stdout",
     "output_type": "stream",
     "text": [
      "3. item after pop() = 60\n",
      "4. list after pop() = [30, 10, 20, 50, 40]\n"
     ]
    }
   ],
   "source": [
    "print(\"3. item after pop() =\", sample_list.pop()) # pop out and delete the latest one\n",
    "print(\"4. list after pop() =\", sample_list)"
   ]
  },
  {
   "cell_type": "code",
   "execution_count": 4,
   "id": "80a5237f",
   "metadata": {},
   "outputs": [
    {
     "name": "stdout",
     "output_type": "stream",
     "text": [
      "5. after sort() = [10, 20, 30, 40, 50]\n"
     ]
    }
   ],
   "source": [
    "sample_list.sort() # sort in upper\n",
    "print(\"5. after sort() =\", sample_list)"
   ]
  },
  {
   "cell_type": "code",
   "execution_count": 5,
   "id": "643f5003",
   "metadata": {},
   "outputs": [
    {
     "name": "stdout",
     "output_type": "stream",
     "text": [
      "6. after reverse() = [50, 40, 30, 20, 10]\n"
     ]
    }
   ],
   "source": [
    "sample_list.reverse() # sort in lower\n",
    "print(\"6. after reverse() =\", sample_list)"
   ]
  },
  {
   "cell_type": "code",
   "execution_count": 6,
   "id": "d804e44a",
   "metadata": {},
   "outputs": [
    {
     "name": "stdout",
     "output_type": "stream",
     "text": [
      "7. index for 20 = 3\n"
     ]
    }
   ],
   "source": [
    "print(\"7. index for 20 =\", sample_list.index(20)) # find element and return index"
   ]
  },
  {
   "cell_type": "code",
   "execution_count": 7,
   "id": "d59b37ce",
   "metadata": {},
   "outputs": [
    {
     "name": "stdout",
     "output_type": "stream",
     "text": [
      "8. after insert(2,222) = [50, 40, 222, 30, 20, 10]\n"
     ]
    }
   ],
   "source": [
    "sample_list.insert(2, 222) # insert(idx, element) : add an element on idx\n",
    "print(\"8. after insert(2,222) =\", sample_list)"
   ]
  },
  {
   "cell_type": "code",
   "execution_count": 8,
   "id": "43ed749d",
   "metadata": {},
   "outputs": [
    {
     "name": "stdout",
     "output_type": "stream",
     "text": [
      "9. after remove(2,222) = [50, 40, 30, 20, 10]\n"
     ]
    }
   ],
   "source": [
    "sample_list.remove(222) # remove(element) : remove element\n",
    "print(\"9. after remove(2,222) =\", sample_list)"
   ]
  },
  {
   "cell_type": "code",
   "execution_count": 9,
   "id": "87bcb7b7",
   "metadata": {},
   "outputs": [
    {
     "name": "stdout",
     "output_type": "stream",
     "text": [
      "10. after extend([100,200,100]) = [50, 40, 30, 20, 10, 100, 200, 100]\n"
     ]
    }
   ],
   "source": [
    "new_list = [100,200,100]\n",
    "sample_list.extend(new_list) # attach new_list\n",
    "print(\"10. after extend([100,200,100]) =\", sample_list)"
   ]
  },
  {
   "cell_type": "code",
   "execution_count": 10,
   "id": "b4211e70",
   "metadata": {},
   "outputs": [
    {
     "name": "stdout",
     "output_type": "stream",
     "text": [
      "11. the number of 100 = 2\n"
     ]
    }
   ],
   "source": [
    "print(\"11. the number of 100 =\", sample_list.count(100)) # count(element) : count the number of element"
   ]
  },
  {
   "cell_type": "code",
   "execution_count": 11,
   "id": "b34b803e",
   "metadata": {},
   "outputs": [
    {
     "name": "stdout",
     "output_type": "stream",
     "text": [
      "turtle bye!\n"
     ]
    }
   ],
   "source": [
    "import turtle\n",
    "t = turtle.Turtle()\n",
    "radius_list = [100,200,50]\n",
    "move = 20\n",
    "\n",
    "t.shape(\"turtle\")\n",
    "\n",
    "for i in range(0, len(radius_list)):\n",
    "    radius = radius_list[i]\n",
    "    t.circle(radius)\n",
    "    t.fd(move)\n",
    "    \n",
    "turtle.done()\n",
    "try:\n",
    "    turtle.bye()\n",
    "except:\n",
    "    print(\"turtle bye!\")"
   ]
  },
  {
   "cell_type": "code",
   "execution_count": null,
   "id": "70c0f4df",
   "metadata": {},
   "outputs": [],
   "source": []
  }
 ],
 "metadata": {
  "kernelspec": {
   "display_name": "Python 3 (ipykernel)",
   "language": "python",
   "name": "python3"
  },
  "language_info": {
   "codemirror_mode": {
    "name": "ipython",
    "version": 3
   },
   "file_extension": ".py",
   "mimetype": "text/x-python",
   "name": "python",
   "nbconvert_exporter": "python",
   "pygments_lexer": "ipython3",
   "version": "3.11.4"
  }
 },
 "nbformat": 4,
 "nbformat_minor": 5
}
