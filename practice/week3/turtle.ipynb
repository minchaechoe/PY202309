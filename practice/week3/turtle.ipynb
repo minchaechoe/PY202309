{
 "cells": [
  {
   "cell_type": "code",
   "execution_count": 1,
   "id": "6d97e41a",
   "metadata": {},
   "outputs": [
    {
     "name": "stdout",
     "output_type": "stream",
     "text": [
      "turtle bye!\n"
     ]
    }
   ],
   "source": [
    "import turtle\n",
    "t = turtle.Turtle()\n",
    "radius_list = [100,200,50]\n",
    "move = 20\n",
    "\n",
    "t.shape(\"turtle\")\n",
    "\n",
    "for i in range(0, len(radius_list)):\n",
    "    radius = radius_list[i]\n",
    "    t.circle(radius)\n",
    "    t.fd(move)\n",
    "    \n",
    "turtle.done()\n",
    "try:\n",
    "    turtle.bye()\n",
    "except:\n",
    "    print(\"turtle bye!\")"
   ]
  },
  {
   "cell_type": "code",
   "execution_count": null,
   "id": "99b38656",
   "metadata": {},
   "outputs": [],
   "source": []
  }
 ],
 "metadata": {
  "kernelspec": {
   "display_name": "Python 3 (ipykernel)",
   "language": "python",
   "name": "python3"
  },
  "language_info": {
   "codemirror_mode": {
    "name": "ipython",
    "version": 3
   },
   "file_extension": ".py",
   "mimetype": "text/x-python",
   "name": "python",
   "nbconvert_exporter": "python",
   "pygments_lexer": "ipython3",
   "version": "3.11.4"
  }
 },
 "nbformat": 4,
 "nbformat_minor": 5
}
