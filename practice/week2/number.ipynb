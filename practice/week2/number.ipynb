{
 "cells": [
  {
   "cell_type": "code",
   "execution_count": 9,
   "id": "f176d41e",
   "metadata": {},
   "outputs": [
    {
     "name": "stdout",
     "output_type": "stream",
     "text": [
      "What do you call a bear with no teeth?\n",
      "A gummy bear!\n"
     ]
    }
   ],
   "source": [
    "print(\"What do you call a bear with no teeth?\\nA gummy bear!\")"
   ]
  },
  {
   "cell_type": "code",
   "execution_count": 10,
   "id": "6cc001be",
   "metadata": {},
   "outputs": [
    {
     "name": "stdout",
     "output_type": "stream",
     "text": [
      "Enter your name: Minchae\n",
      "Hello Minchae\n"
     ]
    }
   ],
   "source": [
    "user_name = input(\"Enter your name: \")\n",
    "print(\"Hello\", user_name)"
   ]
  },
  {
   "cell_type": "code",
   "execution_count": 3,
   "id": "0811206b",
   "metadata": {},
   "outputs": [
    {
     "name": "stdout",
     "output_type": "stream",
     "text": [
      "Input your name: Minchae\n",
      "Input your last name: Choe\n",
      "Hello Minchae Choe\n"
     ]
    }
   ],
   "source": [
    "user_name = input(\"Input your name: \")\n",
    "user_lastname = input(\"Input your last name: \")\n",
    "print(\"Hello\", user_name, user_lastname)"
   ]
  },
  {
   "cell_type": "code",
   "execution_count": 5,
   "id": "9b438f46",
   "metadata": {},
   "outputs": [
    {
     "name": "stdout",
     "output_type": "stream",
     "text": [
      "Input the first number: 10\n",
      "Input the second number: 30\n",
      "10 + 30 = 40\n"
     ]
    }
   ],
   "source": [
    "num1 = int(input(\"Input the first number: \"))\n",
    "num2 = int(input(\"Input the second number: \"))\n",
    "print(num1, '+', num2, '=', num1+num2)"
   ]
  },
  {
   "cell_type": "code",
   "execution_count": 7,
   "id": "ca020c47",
   "metadata": {},
   "outputs": [
    {
     "name": "stdout",
     "output_type": "stream",
     "text": [
      "Input the first number: 10\n",
      "Input the second number: 20\n",
      "Input the third number: 30\n",
      "10 + 20 * 30 = 610\n",
      "( 10 + 20 ) * 30 = 900\n"
     ]
    }
   ],
   "source": [
    "num1 = int(input(\"Input the first number: \"))\n",
    "num2 = int(input(\"Input the second number: \"))\n",
    "num3 = int(input(\"Input the third number: \"))\n",
    "result_1 = num1 + num2 * num3\n",
    "result_2 = (num1 + num2) * num3\n",
    "print(num1, '+', num2, '*', num3, '=', result_1)\n",
    "print('( %d + %d ) * %d = %d' %(num1, num2, num3, result_2)) # using formatting"
   ]
  },
  {
   "cell_type": "code",
   "execution_count": 11,
   "id": "8357c1a2",
   "metadata": {},
   "outputs": [
    {
     "name": "stdout",
     "output_type": "stream",
     "text": [
      "Enter the number of slices of pizza you started with: 10\n",
      "How many slices have you eaten? 5\n",
      "you have 5 slicing remaining.\n"
     ]
    }
   ],
   "source": [
    "base = int(input(\"Enter the number of slices of pizza you started with: \"))\n",
    "eat = int(input(\"How many slices have you eaten? \"))\n",
    "print(\"you have %d slicing remaining.\" %(base-eat))"
   ]
  },
  {
   "cell_type": "code",
   "execution_count": 15,
   "id": "3df9dfae",
   "metadata": {},
   "outputs": [
    {
     "name": "stdout",
     "output_type": "stream",
     "text": [
      "What is your name? Minchae\n",
      "How old are you? 21\n",
      "Minchae, next birthday you will be 22\n"
     ]
    }
   ],
   "source": [
    "name = input(\"What is your name? \")\n",
    "old = int(input(\"How old are you? \")) # change from string to integer\n",
    "print(\"%s, next birthday you will be %d\" %(name, old+1))"
   ]
  },
  {
   "cell_type": "code",
   "execution_count": null,
   "id": "11fc98fc",
   "metadata": {},
   "outputs": [],
   "source": []
  }
 ],
 "metadata": {
  "kernelspec": {
   "display_name": "Python 3 (ipykernel)",
   "language": "python",
   "name": "python3"
  },
  "language_info": {
   "codemirror_mode": {
    "name": "ipython",
    "version": 3
   },
   "file_extension": ".py",
   "mimetype": "text/x-python",
   "name": "python",
   "nbconvert_exporter": "python",
   "pygments_lexer": "ipython3",
   "version": "3.11.4"
  }
 },
 "nbformat": 4,
 "nbformat_minor": 5
}
