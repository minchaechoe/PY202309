{
 "cells": [
  {
   "cell_type": "code",
   "execution_count": 1,
   "id": "6e4b2184",
   "metadata": {},
   "outputs": [
    {
     "name": "stdout",
     "output_type": "stream",
     "text": [
      "** Start Lotto **\n",
      "Number:  5 6 17 30 31 45 "
     ]
    }
   ],
   "source": [
    "import random\n",
    "\n",
    "def get_number():\n",
    "    return random.randrange(1, 46) # generate number between 1 to 45 randomly\n",
    "\n",
    "lotto = []\n",
    "num = 0\n",
    "print(\"** Start Lotto **\")\n",
    "\n",
    "while True:\n",
    "    num = get_number()\n",
    "    \n",
    "    if lotto.count(num) == 0: # restrict repeatition\n",
    "        lotto.append(num)\n",
    "        \n",
    "    if len(lotto) >= 6: # get 6 numbers for lotto\n",
    "        break\n",
    "    \n",
    "print(\"Number: \", end=' ')\n",
    "lotto.sort() # sort the list by ascending order\n",
    "for number in lotto:\n",
    "    print(number, end=' ')"
   ]
  },
  {
   "cell_type": "code",
   "execution_count": null,
   "id": "7765a8d5",
   "metadata": {},
   "outputs": [],
   "source": []
  }
 ],
 "metadata": {
  "kernelspec": {
   "display_name": "Python 3 (ipykernel)",
   "language": "python",
   "name": "python3"
  },
  "language_info": {
   "codemirror_mode": {
    "name": "ipython",
    "version": 3
   },
   "file_extension": ".py",
   "mimetype": "text/x-python",
   "name": "python",
   "nbconvert_exporter": "python",
   "pygments_lexer": "ipython3",
   "version": "3.11.4"
  }
 },
 "nbformat": 4,
 "nbformat_minor": 5
}
